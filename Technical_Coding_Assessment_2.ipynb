{
  "nbformat": 4,
  "nbformat_minor": 0,
  "metadata": {
    "colab": {
      "provenance": [],
      "authorship_tag": "ABX9TyMlqazRUsfY7IBoZzhw7hCf",
      "include_colab_link": true
    },
    "kernelspec": {
      "name": "python3",
      "display_name": "Python 3"
    },
    "language_info": {
      "name": "python"
    }
  },
  "cells": [
    {
      "cell_type": "markdown",
      "metadata": {
        "id": "view-in-github",
        "colab_type": "text"
      },
      "source": [
        "<a href=\"https://colab.research.google.com/github/rohitbodke/Technical-Coding-Assessment-2/blob/main/Technical_Coding_Assessment_2.ipynb\" target=\"_parent\"><img src=\"https://colab.research.google.com/assets/colab-badge.svg\" alt=\"Open In Colab\"/></a>"
      ]
    },
    {
      "cell_type": "code",
      "execution_count": null,
      "metadata": {
        "id": "euXQUXkiXsGc"
      },
      "outputs": [],
      "source": [
        "class TriangleRectangle:\n",
        "\n",
        "  def __init__(self):\n",
        "    self.triangle()\n",
        "  def triangle(self):\n",
        "    print('Enter the triangle sides one by one')\n",
        "\n",
        "    input1 = int(input(\"Enter your first value :\"))\n",
        "    input2 = int(input(\"Enter your second value :\"))\n",
        "    input3 = int(input('Enter your third value'))\n",
        "    \n",
        "    if input1 ** 2 + input2 ** 2 == input ** 2:\n",
        "      \n",
        "      print(\" 'Valid Triangle '\")\n",
        "\n",
        "    elif input2 **2 + input3 ** 2 == input1 ** 2:\n",
        "\n",
        "      print(\" 'Valid Triangle '\")\n",
        "\n",
        "    elif input3 **2 + input1 ** 2 == input2 ** 2:\n",
        "\n",
        "      print(\" 'Valid Triangle '\")\n",
        "    else:\n",
        "\n",
        "      print(\" 'Invalid Triangle' \")\n",
        "\n",
        "    self.rectangle()\n",
        "\n",
        "  def Rectangle(self):\n",
        "\n",
        "\n",
        "\n",
        "\n",
        "    "
      ]
    },
    {
      "cell_type": "code",
      "source": [],
      "metadata": {
        "id": "VE3j-zz8YBS_"
      },
      "execution_count": null,
      "outputs": []
    }
  ]
}